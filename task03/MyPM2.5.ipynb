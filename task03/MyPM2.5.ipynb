{
  "cells": [
    {
      "cell_type": "code",
      "execution_count": 1,
      "metadata": {
        "collapsed": true,
        "pycharm": {
          "is_executing": false
        }
      },
      "outputs": [
        {
          "name": "stdout",
          "text": [
            "损失\n失函\n函数\n数求\n求导\n损失函\n失函数\n函数求\n数求导\n"
          ],
          "output_type": "stream"
        }
      ],
      "source": "# 成本函数  损失函数    损失函数求导  梯度下降公式\n\nfrom sklearn.linear_model import LinearRegression as lr\nfrom sklearn.linear_model import SGDClassifier\n\nl\u003d[s for s in [\"aaa\",\"bbb\"]]\n\nl1\u003d[i for i in range(8)]\nsentence\u003d\"损失函数求导\"\nfor n in [2, 3]:\n    for i in range(len(sentence) - n + 1):\n        word \u003d sentence[i:i + n]\n        print(word)\n        \nss\u003dsentence[4:6]\n"
    }
  ],
  "metadata": {
    "language_info": {
      "codemirror_mode": {
        "name": "ipython",
        "version": 2
      },
      "file_extension": ".py",
      "mimetype": "text/x-python",
      "name": "python",
      "nbconvert_exporter": "python",
      "pygments_lexer": "ipython2",
      "version": "2.7.6"
    },
    "kernelspec": {
      "name": "python3",
      "language": "python",
      "display_name": "Python 3"
    }
  },
  "nbformat": 4,
  "nbformat_minor": 0
}