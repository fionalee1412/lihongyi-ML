{
  "cells": [
    {
      "cell_type": "markdown",
      "metadata": {
        "collapsed": true,
        "pycharm": {
          "name": "#%% md\n"
        }
      },
      "source": "\n## 梯度下降公式\n\n$\\hat{y}\u003dX\\cdot W$\n\n$l\u003dy-\\hat{y}$\n\n$gra\u003d2*X^T\\cdot l$\n\n$sgra\u003d\\sum_{i\u003d1}^{n}gra$\n\n$ada\u003d\\sqrt{sgra}$\n\n\nada\u003dnp.sqrt(sum_gra)"
    }
  ],
  "metadata": {
    "language_info": {
      "codemirror_mode": {
        "name": "ipython",
        "version": 2
      },
      "file_extension": ".py",
      "mimetype": "text/x-python",
      "name": "python",
      "nbconvert_exporter": "python",
      "pygments_lexer": "ipython2",
      "version": "2.7.6"
    },
    "kernelspec": {
      "name": "python3",
      "language": "python",
      "display_name": "Python 3"
    }
  },
  "nbformat": 4,
  "nbformat_minor": 0
}