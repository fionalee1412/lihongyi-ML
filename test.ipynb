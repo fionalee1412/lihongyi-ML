{
  "cells": [
    {
      "cell_type": "code",
      "execution_count": 3,
      "metadata": {
        "collapsed": true,
        "pycharm": {
          "is_executing": false
        }
      },
      "outputs": [
        {
          "data": {
            "text/plain": "array([28, 79, 27, 55, 19, 34,  0, 47, 21, 25, 93,  3, 20, 31, 41,  7, 62,\n       71, 90, 44])"
          },
          "metadata": {},
          "output_type": "execute_result",
          "execution_count": 3
        }
      ],
      "source": "import numpy as np\n\na\u003dnp.zeros((2, 4))\na.shape[0]\n\n# np.random.choice\nb\u003dnp.arange(5)\nb\n\nc\u003dnp.random.choice(100,20,replace\u003dFalse)\n"
    }
  ],
  "metadata": {
    "language_info": {
      "codemirror_mode": {
        "name": "ipython",
        "version": 2
      },
      "file_extension": ".py",
      "mimetype": "text/x-python",
      "name": "python",
      "nbconvert_exporter": "python",
      "pygments_lexer": "ipython2",
      "version": "2.7.6"
    },
    "kernelspec": {
      "name": "python3",
      "language": "python",
      "display_name": "Python 3"
    }
  },
  "nbformat": 4,
  "nbformat_minor": 0
}